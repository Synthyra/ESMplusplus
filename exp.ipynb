{
 "cells": [
  {
   "cell_type": "code",
   "execution_count": 2,
   "metadata": {},
   "outputs": [
    {
     "data": {
      "application/vnd.jupyter.widget-view+json": {
       "model_id": "fa66a4a928c84f8bb9ec4cfe0963b10b",
       "version_major": 2,
       "version_minor": 0
      },
      "text/plain": [
       "modeling_esm_plusplus.py:   0%|          | 0.00/36.3k [00:00<?, ?B/s]"
      ]
     },
     "metadata": {},
     "output_type": "display_data"
    },
    {
     "name": "stderr",
     "output_type": "stream",
     "text": [
      "A new version of the following files was downloaded from https://huggingface.co/Synthyra/ESMplusplus_small:\n",
      "- modeling_esm_plusplus.py\n",
      ". Make sure to double-check they do not contain any added malicious code. To avoid downloading new versions of the code file, you can pin a revision.\n"
     ]
    },
    {
     "name": "stdout",
     "output_type": "stream",
     "text": [
      "torch.Size([2, 11, 64])\n",
      "torch.Size([2, 11, 960])\n",
      "None\n",
      "torch.Size([2, 11, 1280])\n"
     ]
    }
   ],
   "source": [
    "from transformers import AutoModelForMaskedLM #AutoModel also works\n",
    "model = AutoModelForMaskedLM.from_pretrained('Synthyra/ESMplusplus_small', trust_remote_code=True)\n",
    "tokenizer = model.tokenizer\n",
    "\n",
    "sequences = ['MPRTEIN', 'MSEQWENCE']\n",
    "tokenized = tokenizer(sequences, padding=True, return_tensors='pt')\n",
    "\n",
    "# tokenized['labels'] = tokenized['input_ids'].clone() # correctly mask input_ids and set unmasked instances of labels to -100 for MLM training\n",
    "\n",
    "output = model(**tokenized) # get all hidden states with output_hidden_states=True\n",
    "print(output.logits.shape) # language modeling logits, (batch_size, seq_len, vocab_size), (2, 11, 64)\n",
    "print(output.last_hidden_state.shape) # last hidden state of the model, (batch_size, seq_len, hidden_size), (2, 11, 960)\n",
    "print(output.loss) # language modeling loss if you passed labels\n",
    "#print(output.hidden_states) # all hidden states if you passed output_hidden_states=True (in tuple)\n",
    "\n",
    "\n",
    "import torch\n",
    "from transformers import AutoModelForMaskedLM, AutoTokenizer\n",
    "\n",
    "model_path = 'Synthyra/FastESM2_650'\n",
    "model = AutoModelForMaskedLM.from_pretrained(model_path, torch_dtype=torch.float16, trust_remote_code=True).eval()\n",
    "tokenizer = AutoTokenizer.from_pretrained(model_path, trust_remote_code=True)\n",
    "\n",
    "sequences = ['MPRTEIN', 'MSEQWENCE']\n",
    "tokenized = tokenizer(sequences, padding=True, return_tensors='pt')\n",
    "with torch.no_grad():\n",
    "    embeddings = model(**tokenized, output_hidden_states=True).hidden_states[-1]\n",
    "\n",
    "print(embeddings.shape) # (1, 11, 1280)\n"
   ]
  },
  {
   "cell_type": "code",
   "execution_count": 1,
   "metadata": {},
   "outputs": [],
   "source": [
    "from transformers import AutoModelForSequenceClassification\n",
    "from peft import LoraConfig, get_peft_model, TaskType\n",
    "from modeling_esm_plusplus import ESMplusplusConfig, ESMplusplusForSequenceClassification"
   ]
  },
  {
   "cell_type": "code",
   "execution_count": 3,
   "metadata": {},
   "outputs": [
    {
     "name": "stderr",
     "output_type": "stream",
     "text": [
      "c:\\Users\\lhall\\AppData\\Local\\Programs\\Python\\Python311\\Lib\\site-packages\\transformers\\tokenization_utils_base.py:1601: FutureWarning: `clean_up_tokenization_spaces` was not set. It will be set to `True` by default. This behavior will be depracted in transformers v4.45, and will be then set to `False` by default. For more details check this issue: https://github.com/huggingface/transformers/issues/31884\n",
      "  warnings.warn(\n",
      "Some weights of ESMplusplusForSequenceClassification were not initialized from the model checkpoint at Synthyra/ESMplusplus_small and are newly initialized: ['classifier.0.bias', 'classifier.0.weight', 'classifier.2.bias', 'classifier.2.weight', 'classifier.3.bias', 'classifier.3.weight']\n",
      "You should probably TRAIN this model on a down-stream task to be able to use it for predictions and inference.\n"
     ]
    },
    {
     "name": "stdout",
     "output_type": "stream",
     "text": [
      "ESMplusplusForSequenceClassification(\n",
      "  (embed): Embedding(64, 960)\n",
      "  (transformer): TransformerStack(\n",
      "    (blocks): ModuleList(\n",
      "      (0-29): 30 x UnifiedTransformerBlock(\n",
      "        (attn): MultiHeadAttention(\n",
      "          (layernorm_qkv): Sequential(\n",
      "            (0): LayerNorm((960,), eps=1e-05, elementwise_affine=True)\n",
      "            (1): Linear(in_features=960, out_features=2880, bias=False)\n",
      "          )\n",
      "          (out_proj): Linear(in_features=960, out_features=960, bias=False)\n",
      "          (q_ln): LayerNorm((960,), eps=1e-05, elementwise_affine=True)\n",
      "          (k_ln): LayerNorm((960,), eps=1e-05, elementwise_affine=True)\n",
      "          (rotary): RotaryEmbedding()\n",
      "        )\n",
      "        (ffn): Sequential(\n",
      "          (0): LayerNorm((960,), eps=1e-05, elementwise_affine=True)\n",
      "          (1): Linear(in_features=960, out_features=5120, bias=False)\n",
      "          (2): SwiGLU()\n",
      "          (3): Linear(in_features=2560, out_features=960, bias=False)\n",
      "        )\n",
      "      )\n",
      "    )\n",
      "    (norm): LayerNorm((960,), eps=1e-05, elementwise_affine=True)\n",
      "  )\n",
      "  (sequence_head): Sequential(\n",
      "    (0): Linear(in_features=960, out_features=960, bias=True)\n",
      "    (1): GELU(approximate='none')\n",
      "    (2): LayerNorm((960,), eps=1e-05, elementwise_affine=True)\n",
      "    (3): Linear(in_features=960, out_features=64, bias=True)\n",
      "  )\n",
      "  (ce_loss): CrossEntropyLoss()\n",
      "  (classifier): Sequential(\n",
      "    (0): Linear(in_features=1920, out_features=3840, bias=True)\n",
      "    (1): GELU(approximate='none')\n",
      "    (2): LayerNorm((3840,), eps=1e-05, elementwise_affine=True)\n",
      "    (3): Linear(in_features=3840, out_features=1, bias=True)\n",
      "  )\n",
      "  (mse): MSELoss()\n",
      "  (ce): CrossEntropyLoss()\n",
      "  (bce): BCEWithLogitsLoss()\n",
      ")\n",
      "trainable params: 921,600 || all params: 341,306,945 || trainable%: 0.2700\n"
     ]
    }
   ],
   "source": [
    "esmconfig = ESMplusplusConfig(\n",
    "    vocab_size=64,\n",
    "    hidden_size=960,\n",
    "    num_attention_heads=15,\n",
    "    num_hidden_layers=30,\n",
    "    num_labels=1,   # regression\n",
    "    problem_type=None,\n",
    "    dropout=0.0,\n",
    ")\n",
    "### All three of these work\n",
    "#model = ESMplusplusForSequenceClassification.from_pretrained(\"Synthyra/ESMplusplus_small\", num_labels=1)\n",
    "#model = ESMplusplusForSequenceClassification(esmconfig).from_pretrained(\"Synthyra/ESMplusplus_small\")\n",
    "model = AutoModelForSequenceClassification.from_pretrained(\"Synthyra/ESMplusplus_small\", num_labels=1, trust_remote_code=True)\n",
    "\n",
    "print(model)\n",
    "\n",
    "peft_config = LoraConfig(\n",
    "    task_type=TaskType.FEATURE_EXTRACTION,\n",
    "    inference_mode=False,\n",
    "    target_modules=[\"layernorm_qkv.1\"],\n",
    ")\n",
    "\n",
    "model = get_peft_model(model, peft_config)\n",
    "model.print_trainable_parameters()"
   ]
  },
  {
   "cell_type": "code",
   "execution_count": 10,
   "metadata": {},
   "outputs": [
    {
     "data": {
      "text/plain": [
       "PeftModelForFeatureExtraction(\n",
       "  (base_model): LoraModel(\n",
       "    (model): ESMplusplusForSequenceClassification(\n",
       "      (embed): Embedding(64, 960)\n",
       "      (transformer): TransformerStack(\n",
       "        (blocks): ModuleList(\n",
       "          (0-29): 30 x UnifiedTransformerBlock(\n",
       "            (attn): MultiHeadAttention(\n",
       "              (layernorm_qkv): Sequential(\n",
       "                (0): LayerNorm((960,), eps=1e-05, elementwise_affine=True)\n",
       "                (1): lora.Linear(\n",
       "                  (base_layer): Linear(in_features=960, out_features=2880, bias=False)\n",
       "                  (lora_dropout): ModuleDict(\n",
       "                    (default): Identity()\n",
       "                  )\n",
       "                  (lora_A): ModuleDict(\n",
       "                    (default): Linear(in_features=960, out_features=8, bias=False)\n",
       "                  )\n",
       "                  (lora_B): ModuleDict(\n",
       "                    (default): Linear(in_features=8, out_features=2880, bias=False)\n",
       "                  )\n",
       "                  (lora_embedding_A): ParameterDict()\n",
       "                  (lora_embedding_B): ParameterDict()\n",
       "                  (lora_magnitude_vector): ModuleDict()\n",
       "                )\n",
       "              )\n",
       "              (out_proj): Linear(in_features=960, out_features=960, bias=False)\n",
       "              (q_ln): LayerNorm((960,), eps=1e-05, elementwise_affine=True)\n",
       "              (k_ln): LayerNorm((960,), eps=1e-05, elementwise_affine=True)\n",
       "              (rotary): RotaryEmbedding()\n",
       "            )\n",
       "            (ffn): Sequential(\n",
       "              (0): LayerNorm((960,), eps=1e-05, elementwise_affine=True)\n",
       "              (1): Linear(in_features=960, out_features=5120, bias=False)\n",
       "              (2): SwiGLU()\n",
       "              (3): Linear(in_features=2560, out_features=960, bias=False)\n",
       "            )\n",
       "          )\n",
       "        )\n",
       "        (norm): LayerNorm((960,), eps=1e-05, elementwise_affine=True)\n",
       "      )\n",
       "      (sequence_head): Sequential(\n",
       "        (0): Linear(in_features=960, out_features=960, bias=True)\n",
       "        (1): GELU(approximate='none')\n",
       "        (2): LayerNorm((960,), eps=1e-05, elementwise_affine=True)\n",
       "        (3): Linear(in_features=960, out_features=64, bias=True)\n",
       "      )\n",
       "      (ce_loss): CrossEntropyLoss()\n",
       "      (classifier): Sequential(\n",
       "        (0): Linear(in_features=1920, out_features=3840, bias=True)\n",
       "        (1): GELU(approximate='none')\n",
       "        (2): LayerNorm((3840,), eps=1e-05, elementwise_affine=True)\n",
       "        (3): Linear(in_features=3840, out_features=1, bias=True)\n",
       "      )\n",
       "      (mse): MSELoss()\n",
       "      (ce): CrossEntropyLoss()\n",
       "      (bce): BCEWithLogitsLoss()\n",
       "    )\n",
       "  )\n",
       ")"
      ]
     },
     "execution_count": 10,
     "metadata": {},
     "output_type": "execute_result"
    }
   ],
   "source": [
    "model"
   ]
  },
  {
   "cell_type": "code",
   "execution_count": null,
   "metadata": {},
   "outputs": [],
   "source": []
  }
 ],
 "metadata": {
  "kernelspec": {
   "display_name": "Python 3",
   "language": "python",
   "name": "python3"
  },
  "language_info": {
   "codemirror_mode": {
    "name": "ipython",
    "version": 3
   },
   "file_extension": ".py",
   "mimetype": "text/x-python",
   "name": "python",
   "nbconvert_exporter": "python",
   "pygments_lexer": "ipython3",
   "version": "3.11.8"
  }
 },
 "nbformat": 4,
 "nbformat_minor": 2
}
