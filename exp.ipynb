{
 "cells": [
  {
   "cell_type": "code",
   "execution_count": 8,
   "metadata": {},
   "outputs": [],
   "source": [
    "from modeling_esm_plusplus import ESMplusplusForMaskedLM, ESMplusplusModel, ESMplusplusForSequenceClassification, ESMplusplusForTokenClassification"
   ]
  },
  {
   "cell_type": "code",
   "execution_count": 2,
   "metadata": {},
   "outputs": [
    {
     "name": "stderr",
     "output_type": "stream",
     "text": [
      "The argument `trust_remote_code` is to be used with Auto classes. It has no effect here and is ignored.\n"
     ]
    },
    {
     "data": {
      "text/plain": [
       "ESMplusplusModel(\n",
       "  (embed): Embedding(64, 960)\n",
       "  (transformer): TransformerStack(\n",
       "    (blocks): ModuleList(\n",
       "      (0-29): 30 x UnifiedTransformerBlock(\n",
       "        (attn): MultiHeadAttention(\n",
       "          (layernorm_qkv): Sequential(\n",
       "            (0): LayerNorm((960,), eps=1e-05, elementwise_affine=True)\n",
       "            (1): Linear(in_features=960, out_features=2880, bias=False)\n",
       "          )\n",
       "          (out_proj): Linear(in_features=960, out_features=960, bias=False)\n",
       "          (q_ln): LayerNorm((960,), eps=1e-05, elementwise_affine=True)\n",
       "          (k_ln): LayerNorm((960,), eps=1e-05, elementwise_affine=True)\n",
       "          (rotary): RotaryEmbedding()\n",
       "        )\n",
       "        (ffn): Sequential(\n",
       "          (0): LayerNorm((960,), eps=1e-05, elementwise_affine=True)\n",
       "          (1): Linear(in_features=960, out_features=5120, bias=False)\n",
       "          (2): SwiGLU()\n",
       "          (3): Linear(in_features=2560, out_features=960, bias=False)\n",
       "        )\n",
       "        (dropout): Dropout(p=0.0, inplace=False)\n",
       "      )\n",
       "    )\n",
       "    (norm): LayerNorm((960,), eps=1e-05, elementwise_affine=True)\n",
       "  )\n",
       ")"
      ]
     },
     "execution_count": 2,
     "metadata": {},
     "output_type": "execute_result"
    }
   ],
   "source": [
    "model = ESMplusplusModel.from_pretrained(\"Synthyra/ESMplusplus_small\", trust_remote_code=True)\n",
    "model"
   ]
  },
  {
   "cell_type": "code",
   "execution_count": 6,
   "metadata": {},
   "outputs": [
    {
     "name": "stderr",
     "output_type": "stream",
     "text": [
      "The argument `trust_remote_code` is to be used with Auto classes. It has no effect here and is ignored.\n"
     ]
    },
    {
     "data": {
      "text/plain": [
       "ESMplusplusForMaskedLM(\n",
       "  (embed): Embedding(64, 960)\n",
       "  (transformer): TransformerStack(\n",
       "    (blocks): ModuleList(\n",
       "      (0-29): 30 x UnifiedTransformerBlock(\n",
       "        (attn): MultiHeadAttention(\n",
       "          (layernorm_qkv): Sequential(\n",
       "            (0): LayerNorm((960,), eps=1e-05, elementwise_affine=True)\n",
       "            (1): Linear(in_features=960, out_features=2880, bias=False)\n",
       "          )\n",
       "          (out_proj): Linear(in_features=960, out_features=960, bias=False)\n",
       "          (q_ln): LayerNorm((960,), eps=1e-05, elementwise_affine=True)\n",
       "          (k_ln): LayerNorm((960,), eps=1e-05, elementwise_affine=True)\n",
       "          (rotary): RotaryEmbedding()\n",
       "        )\n",
       "        (ffn): Sequential(\n",
       "          (0): LayerNorm((960,), eps=1e-05, elementwise_affine=True)\n",
       "          (1): Linear(in_features=960, out_features=5120, bias=False)\n",
       "          (2): SwiGLU()\n",
       "          (3): Linear(in_features=2560, out_features=960, bias=False)\n",
       "        )\n",
       "        (dropout): Dropout(p=0.0, inplace=False)\n",
       "      )\n",
       "    )\n",
       "    (norm): LayerNorm((960,), eps=1e-05, elementwise_affine=True)\n",
       "  )\n",
       "  (sequence_head): Sequential(\n",
       "    (0): Linear(in_features=960, out_features=960, bias=True)\n",
       "    (1): GELU(approximate='none')\n",
       "    (2): LayerNorm((960,), eps=1e-05, elementwise_affine=True)\n",
       "    (3): Linear(in_features=960, out_features=64, bias=True)\n",
       "  )\n",
       "  (ce_loss): CrossEntropyLoss()\n",
       ")"
      ]
     },
     "execution_count": 6,
     "metadata": {},
     "output_type": "execute_result"
    }
   ],
   "source": [
    "model = ESMplusplusForMaskedLM.from_pretrained(\"Synthyra/ESMplusplus_small\", trust_remote_code=True)\n",
    "model"
   ]
  },
  {
   "cell_type": "code",
   "execution_count": 11,
   "metadata": {},
   "outputs": [
    {
     "name": "stderr",
     "output_type": "stream",
     "text": [
      "The argument `trust_remote_code` is to be used with Auto classes. It has no effect here and is ignored.\n",
      "Some weights of ESMplusplusForSequenceClassification were not initialized from the model checkpoint at Synthyra/ESMplusplus_small and are newly initialized: ['classifier.0.bias', 'classifier.0.weight', 'classifier.2.bias', 'classifier.2.weight', 'classifier.3.bias', 'classifier.3.weight']\n",
      "You should probably TRAIN this model on a down-stream task to be able to use it for predictions and inference.\n"
     ]
    },
    {
     "data": {
      "text/plain": [
       "ESMplusplusForSequenceClassification(\n",
       "  (embed): Embedding(64, 960)\n",
       "  (transformer): TransformerStack(\n",
       "    (blocks): ModuleList(\n",
       "      (0-29): 30 x UnifiedTransformerBlock(\n",
       "        (attn): MultiHeadAttention(\n",
       "          (layernorm_qkv): Sequential(\n",
       "            (0): LayerNorm((960,), eps=1e-05, elementwise_affine=True)\n",
       "            (1): Linear(in_features=960, out_features=2880, bias=False)\n",
       "          )\n",
       "          (out_proj): Linear(in_features=960, out_features=960, bias=False)\n",
       "          (q_ln): LayerNorm((960,), eps=1e-05, elementwise_affine=True)\n",
       "          (k_ln): LayerNorm((960,), eps=1e-05, elementwise_affine=True)\n",
       "          (rotary): RotaryEmbedding()\n",
       "        )\n",
       "        (ffn): Sequential(\n",
       "          (0): LayerNorm((960,), eps=1e-05, elementwise_affine=True)\n",
       "          (1): Linear(in_features=960, out_features=5120, bias=False)\n",
       "          (2): SwiGLU()\n",
       "          (3): Linear(in_features=2560, out_features=960, bias=False)\n",
       "        )\n",
       "        (dropout): Dropout(p=0.0, inplace=False)\n",
       "      )\n",
       "    )\n",
       "    (norm): LayerNorm((960,), eps=1e-05, elementwise_affine=True)\n",
       "  )\n",
       "  (sequence_head): Sequential(\n",
       "    (0): Linear(in_features=960, out_features=960, bias=True)\n",
       "    (1): GELU(approximate='none')\n",
       "    (2): LayerNorm((960,), eps=1e-05, elementwise_affine=True)\n",
       "    (3): Linear(in_features=960, out_features=64, bias=True)\n",
       "  )\n",
       "  (ce_loss): CrossEntropyLoss()\n",
       "  (classifier): Sequential(\n",
       "    (0): Linear(in_features=1920, out_features=3840, bias=True)\n",
       "    (1): GELU(approximate='none')\n",
       "    (2): LayerNorm((3840,), eps=1e-05, elementwise_affine=True)\n",
       "    (3): Linear(in_features=3840, out_features=2, bias=True)\n",
       "  )\n",
       "  (mse): MSELoss()\n",
       "  (ce): CrossEntropyLoss()\n",
       "  (bce): BCEWithLogitsLoss()\n",
       ")"
      ]
     },
     "execution_count": 11,
     "metadata": {},
     "output_type": "execute_result"
    }
   ],
   "source": [
    "model = ESMplusplusForSequenceClassification.from_pretrained(\"Synthyra/ESMplusplus_small\", trust_remote_code=True)\n",
    "model"
   ]
  },
  {
   "cell_type": "code",
   "execution_count": 15,
   "metadata": {},
   "outputs": [
    {
     "data": {
      "text/plain": [
       "Parameter containing:\n",
       "tensor([[-7.8697e-03,  3.4233e-02, -3.9919e-02,  ...,  8.9284e-03,\n",
       "          3.8105e-05,  6.2772e-03],\n",
       "        [ 2.6513e-03,  4.2123e-02,  9.2779e-03,  ..., -3.1272e-02,\n",
       "         -6.5896e-03, -1.3682e-02],\n",
       "        [ 1.7566e-03,  2.9722e-02,  9.2494e-03,  ..., -2.2898e-02,\n",
       "          1.1652e-02,  1.1446e-02],\n",
       "        ...,\n",
       "        [ 6.2394e-03, -9.0455e-03, -1.6028e-02,  ..., -3.7517e-03,\n",
       "         -9.4722e-03,  2.6300e-02],\n",
       "        [ 9.4015e-03, -2.0319e-02,  1.7403e-02,  ...,  4.1359e-02,\n",
       "          1.3976e-02,  1.0248e-02],\n",
       "        [ 3.9434e-04, -4.0723e-03,  3.0650e-03,  ..., -2.7834e-02,\n",
       "          1.9936e-03,  1.3043e-03]], requires_grad=True)"
      ]
     },
     "execution_count": 15,
     "metadata": {},
     "output_type": "execute_result"
    }
   ],
   "source": [
    "model.classifier[0].weight"
   ]
  },
  {
   "cell_type": "code",
   "execution_count": 10,
   "metadata": {},
   "outputs": [
    {
     "name": "stderr",
     "output_type": "stream",
     "text": [
      "The argument `trust_remote_code` is to be used with Auto classes. It has no effect here and is ignored.\n",
      "Some weights of ESMplusplusForTokenClassification were not initialized from the model checkpoint at Synthyra/ESMplusplus_small and are newly initialized: ['classifier.0.bias', 'classifier.0.weight', 'classifier.2.bias', 'classifier.2.weight', 'classifier.3.bias', 'classifier.3.weight']\n",
      "You should probably TRAIN this model on a down-stream task to be able to use it for predictions and inference.\n"
     ]
    },
    {
     "data": {
      "text/plain": [
       "ESMplusplusForTokenClassification(\n",
       "  (embed): Embedding(64, 960)\n",
       "  (transformer): TransformerStack(\n",
       "    (blocks): ModuleList(\n",
       "      (0-29): 30 x UnifiedTransformerBlock(\n",
       "        (attn): MultiHeadAttention(\n",
       "          (layernorm_qkv): Sequential(\n",
       "            (0): LayerNorm((960,), eps=1e-05, elementwise_affine=True)\n",
       "            (1): Linear(in_features=960, out_features=2880, bias=False)\n",
       "          )\n",
       "          (out_proj): Linear(in_features=960, out_features=960, bias=False)\n",
       "          (q_ln): LayerNorm((960,), eps=1e-05, elementwise_affine=True)\n",
       "          (k_ln): LayerNorm((960,), eps=1e-05, elementwise_affine=True)\n",
       "          (rotary): RotaryEmbedding()\n",
       "        )\n",
       "        (ffn): Sequential(\n",
       "          (0): LayerNorm((960,), eps=1e-05, elementwise_affine=True)\n",
       "          (1): Linear(in_features=960, out_features=5120, bias=False)\n",
       "          (2): SwiGLU()\n",
       "          (3): Linear(in_features=2560, out_features=960, bias=False)\n",
       "        )\n",
       "        (dropout): Dropout(p=0.0, inplace=False)\n",
       "      )\n",
       "    )\n",
       "    (norm): LayerNorm((960,), eps=1e-05, elementwise_affine=True)\n",
       "  )\n",
       "  (sequence_head): Sequential(\n",
       "    (0): Linear(in_features=960, out_features=960, bias=True)\n",
       "    (1): GELU(approximate='none')\n",
       "    (2): LayerNorm((960,), eps=1e-05, elementwise_affine=True)\n",
       "    (3): Linear(in_features=960, out_features=64, bias=True)\n",
       "  )\n",
       "  (ce_loss): CrossEntropyLoss()\n",
       "  (classifier): Sequential(\n",
       "    (0): Linear(in_features=960, out_features=3840, bias=True)\n",
       "    (1): GELU(approximate='none')\n",
       "    (2): LayerNorm((3840,), eps=1e-05, elementwise_affine=True)\n",
       "    (3): Linear(in_features=3840, out_features=2, bias=True)\n",
       "  )\n",
       "  (loss_fct): CrossEntropyLoss()\n",
       ")"
      ]
     },
     "execution_count": 10,
     "metadata": {},
     "output_type": "execute_result"
    }
   ],
   "source": [
    "model = ESMplusplusForTokenClassification.from_pretrained(\"Synthyra/ESMplusplus_small\", trust_remote_code=True)\n",
    "model\n"
   ]
  },
  {
   "cell_type": "code",
   "execution_count": null,
   "metadata": {},
   "outputs": [],
   "source": []
  },
  {
   "cell_type": "code",
   "execution_count": null,
   "metadata": {},
   "outputs": [],
   "source": []
  }
 ],
 "metadata": {
  "kernelspec": {
   "display_name": "Python 3",
   "language": "python",
   "name": "python3"
  },
  "language_info": {
   "codemirror_mode": {
    "name": "ipython",
    "version": 3
   },
   "file_extension": ".py",
   "mimetype": "text/x-python",
   "name": "python",
   "nbconvert_exporter": "python",
   "pygments_lexer": "ipython3",
   "version": "3.11.9"
  }
 },
 "nbformat": 4,
 "nbformat_minor": 2
}
