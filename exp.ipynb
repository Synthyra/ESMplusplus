{
 "cells": [
  {
   "cell_type": "code",
   "execution_count": 5,
   "metadata": {},
   "outputs": [],
   "source": [
    "from transformers import T5EncoderModel"
   ]
  },
  {
   "cell_type": "code",
   "execution_count": 6,
   "metadata": {},
   "outputs": [
    {
     "data": {
      "text/plain": [
       "T5EncoderModel(\n",
       "  (shared): Embedding(144, 1536)\n",
       "  (encoder): T5Stack(\n",
       "    (embed_tokens): Embedding(144, 1536)\n",
       "    (block): ModuleList(\n",
       "      (0): T5Block(\n",
       "        (layer): ModuleList(\n",
       "          (0): T5LayerSelfAttention(\n",
       "            (SelfAttention): T5Attention(\n",
       "              (q): Linear(in_features=1536, out_features=1024, bias=False)\n",
       "              (k): Linear(in_features=1536, out_features=1024, bias=False)\n",
       "              (v): Linear(in_features=1536, out_features=1024, bias=False)\n",
       "              (o): Linear(in_features=1024, out_features=1536, bias=False)\n",
       "              (relative_attention_bias): Embedding(64, 16)\n",
       "            )\n",
       "            (layer_norm): T5LayerNorm()\n",
       "            (dropout): Dropout(p=0.0, inplace=False)\n",
       "          )\n",
       "          (1): T5LayerFF(\n",
       "            (DenseReluDense): T5DenseGatedActDense(\n",
       "              (wi_0): Linear(in_features=1536, out_features=3840, bias=False)\n",
       "              (wi_1): Linear(in_features=1536, out_features=3840, bias=False)\n",
       "              (wo): Linear(in_features=3840, out_features=1536, bias=False)\n",
       "              (dropout): Dropout(p=0.0, inplace=False)\n",
       "              (act): NewGELUActivation()\n",
       "            )\n",
       "            (layer_norm): T5LayerNorm()\n",
       "            (dropout): Dropout(p=0.0, inplace=False)\n",
       "          )\n",
       "        )\n",
       "      )\n",
       "      (1-47): 47 x T5Block(\n",
       "        (layer): ModuleList(\n",
       "          (0): T5LayerSelfAttention(\n",
       "            (SelfAttention): T5Attention(\n",
       "              (q): Linear(in_features=1536, out_features=1024, bias=False)\n",
       "              (k): Linear(in_features=1536, out_features=1024, bias=False)\n",
       "              (v): Linear(in_features=1536, out_features=1024, bias=False)\n",
       "              (o): Linear(in_features=1024, out_features=1536, bias=False)\n",
       "            )\n",
       "            (layer_norm): T5LayerNorm()\n",
       "            (dropout): Dropout(p=0.0, inplace=False)\n",
       "          )\n",
       "          (1): T5LayerFF(\n",
       "            (DenseReluDense): T5DenseGatedActDense(\n",
       "              (wi_0): Linear(in_features=1536, out_features=3840, bias=False)\n",
       "              (wi_1): Linear(in_features=1536, out_features=3840, bias=False)\n",
       "              (wo): Linear(in_features=3840, out_features=1536, bias=False)\n",
       "              (dropout): Dropout(p=0.0, inplace=False)\n",
       "              (act): NewGELUActivation()\n",
       "            )\n",
       "            (layer_norm): T5LayerNorm()\n",
       "            (dropout): Dropout(p=0.0, inplace=False)\n",
       "          )\n",
       "        )\n",
       "      )\n",
       "    )\n",
       "    (final_layer_norm): T5LayerNorm()\n",
       "    (dropout): Dropout(p=0.0, inplace=False)\n",
       "  )\n",
       ")"
      ]
     },
     "execution_count": 6,
     "metadata": {},
     "output_type": "execute_result"
    }
   ],
   "source": [
    "model = T5EncoderModel.from_pretrained(\"lhallee/ankh_large_encoder\")\n",
    "model"
   ]
  },
  {
   "cell_type": "code",
   "execution_count": 1,
   "metadata": {},
   "outputs": [],
   "source": [
    "from transformers import AutoModelForSequenceClassification\n",
    "from peft import LoraConfig, get_peft_model, TaskType\n",
    "from modeling_esm_plusplus import ESMplusplusConfig, ESMplusplusForSequenceClassification"
   ]
  },
  {
   "cell_type": "code",
   "execution_count": 3,
   "metadata": {},
   "outputs": [
    {
     "name": "stderr",
     "output_type": "stream",
     "text": [
      "c:\\Users\\lhall\\AppData\\Local\\Programs\\Python\\Python311\\Lib\\site-packages\\transformers\\tokenization_utils_base.py:1601: FutureWarning: `clean_up_tokenization_spaces` was not set. It will be set to `True` by default. This behavior will be depracted in transformers v4.45, and will be then set to `False` by default. For more details check this issue: https://github.com/huggingface/transformers/issues/31884\n",
      "  warnings.warn(\n",
      "Some weights of ESMplusplusForSequenceClassification were not initialized from the model checkpoint at Synthyra/ESMplusplus_small and are newly initialized: ['classifier.0.bias', 'classifier.0.weight', 'classifier.2.bias', 'classifier.2.weight', 'classifier.3.bias', 'classifier.3.weight']\n",
      "You should probably TRAIN this model on a down-stream task to be able to use it for predictions and inference.\n"
     ]
    },
    {
     "name": "stdout",
     "output_type": "stream",
     "text": [
      "ESMplusplusForSequenceClassification(\n",
      "  (embed): Embedding(64, 960)\n",
      "  (transformer): TransformerStack(\n",
      "    (blocks): ModuleList(\n",
      "      (0-29): 30 x UnifiedTransformerBlock(\n",
      "        (attn): MultiHeadAttention(\n",
      "          (layernorm_qkv): Sequential(\n",
      "            (0): LayerNorm((960,), eps=1e-05, elementwise_affine=True)\n",
      "            (1): Linear(in_features=960, out_features=2880, bias=False)\n",
      "          )\n",
      "          (out_proj): Linear(in_features=960, out_features=960, bias=False)\n",
      "          (q_ln): LayerNorm((960,), eps=1e-05, elementwise_affine=True)\n",
      "          (k_ln): LayerNorm((960,), eps=1e-05, elementwise_affine=True)\n",
      "          (rotary): RotaryEmbedding()\n",
      "        )\n",
      "        (ffn): Sequential(\n",
      "          (0): LayerNorm((960,), eps=1e-05, elementwise_affine=True)\n",
      "          (1): Linear(in_features=960, out_features=5120, bias=False)\n",
      "          (2): SwiGLU()\n",
      "          (3): Linear(in_features=2560, out_features=960, bias=False)\n",
      "        )\n",
      "      )\n",
      "    )\n",
      "    (norm): LayerNorm((960,), eps=1e-05, elementwise_affine=True)\n",
      "  )\n",
      "  (sequence_head): Sequential(\n",
      "    (0): Linear(in_features=960, out_features=960, bias=True)\n",
      "    (1): GELU(approximate='none')\n",
      "    (2): LayerNorm((960,), eps=1e-05, elementwise_affine=True)\n",
      "    (3): Linear(in_features=960, out_features=64, bias=True)\n",
      "  )\n",
      "  (ce_loss): CrossEntropyLoss()\n",
      "  (classifier): Sequential(\n",
      "    (0): Linear(in_features=1920, out_features=3840, bias=True)\n",
      "    (1): GELU(approximate='none')\n",
      "    (2): LayerNorm((3840,), eps=1e-05, elementwise_affine=True)\n",
      "    (3): Linear(in_features=3840, out_features=1, bias=True)\n",
      "  )\n",
      "  (mse): MSELoss()\n",
      "  (ce): CrossEntropyLoss()\n",
      "  (bce): BCEWithLogitsLoss()\n",
      ")\n",
      "trainable params: 921,600 || all params: 341,306,945 || trainable%: 0.2700\n"
     ]
    }
   ],
   "source": [
    "esmconfig = ESMplusplusConfig(\n",
    "    vocab_size=64,\n",
    "    hidden_size=960,\n",
    "    num_attention_heads=15,\n",
    "    num_hidden_layers=30,\n",
    "    num_labels=1,   # regression\n",
    "    problem_type=None,\n",
    "    dropout=0.0,\n",
    ")\n",
    "### All three of these work\n",
    "#model = ESMplusplusForSequenceClassification.from_pretrained(\"Synthyra/ESMplusplus_small\", num_labels=1)\n",
    "#model = ESMplusplusForSequenceClassification(esmconfig).from_pretrained(\"Synthyra/ESMplusplus_small\")\n",
    "model = AutoModelForSequenceClassification.from_pretrained(\"Synthyra/ESMplusplus_small\", num_labels=1, trust_remote_code=True)\n",
    "\n",
    "print(model)\n",
    "\n",
    "peft_config = LoraConfig(\n",
    "    task_type=TaskType.FEATURE_EXTRACTION,\n",
    "    inference_mode=False,\n",
    "    target_modules=[\"layernorm_qkv.1\"],\n",
    ")\n",
    "\n",
    "model = get_peft_model(model, peft_config)\n",
    "model.print_trainable_parameters()"
   ]
  },
  {
   "cell_type": "code",
   "execution_count": 10,
   "metadata": {},
   "outputs": [
    {
     "data": {
      "text/plain": [
       "PeftModelForFeatureExtraction(\n",
       "  (base_model): LoraModel(\n",
       "    (model): ESMplusplusForSequenceClassification(\n",
       "      (embed): Embedding(64, 960)\n",
       "      (transformer): TransformerStack(\n",
       "        (blocks): ModuleList(\n",
       "          (0-29): 30 x UnifiedTransformerBlock(\n",
       "            (attn): MultiHeadAttention(\n",
       "              (layernorm_qkv): Sequential(\n",
       "                (0): LayerNorm((960,), eps=1e-05, elementwise_affine=True)\n",
       "                (1): lora.Linear(\n",
       "                  (base_layer): Linear(in_features=960, out_features=2880, bias=False)\n",
       "                  (lora_dropout): ModuleDict(\n",
       "                    (default): Identity()\n",
       "                  )\n",
       "                  (lora_A): ModuleDict(\n",
       "                    (default): Linear(in_features=960, out_features=8, bias=False)\n",
       "                  )\n",
       "                  (lora_B): ModuleDict(\n",
       "                    (default): Linear(in_features=8, out_features=2880, bias=False)\n",
       "                  )\n",
       "                  (lora_embedding_A): ParameterDict()\n",
       "                  (lora_embedding_B): ParameterDict()\n",
       "                  (lora_magnitude_vector): ModuleDict()\n",
       "                )\n",
       "              )\n",
       "              (out_proj): Linear(in_features=960, out_features=960, bias=False)\n",
       "              (q_ln): LayerNorm((960,), eps=1e-05, elementwise_affine=True)\n",
       "              (k_ln): LayerNorm((960,), eps=1e-05, elementwise_affine=True)\n",
       "              (rotary): RotaryEmbedding()\n",
       "            )\n",
       "            (ffn): Sequential(\n",
       "              (0): LayerNorm((960,), eps=1e-05, elementwise_affine=True)\n",
       "              (1): Linear(in_features=960, out_features=5120, bias=False)\n",
       "              (2): SwiGLU()\n",
       "              (3): Linear(in_features=2560, out_features=960, bias=False)\n",
       "            )\n",
       "          )\n",
       "        )\n",
       "        (norm): LayerNorm((960,), eps=1e-05, elementwise_affine=True)\n",
       "      )\n",
       "      (sequence_head): Sequential(\n",
       "        (0): Linear(in_features=960, out_features=960, bias=True)\n",
       "        (1): GELU(approximate='none')\n",
       "        (2): LayerNorm((960,), eps=1e-05, elementwise_affine=True)\n",
       "        (3): Linear(in_features=960, out_features=64, bias=True)\n",
       "      )\n",
       "      (ce_loss): CrossEntropyLoss()\n",
       "      (classifier): Sequential(\n",
       "        (0): Linear(in_features=1920, out_features=3840, bias=True)\n",
       "        (1): GELU(approximate='none')\n",
       "        (2): LayerNorm((3840,), eps=1e-05, elementwise_affine=True)\n",
       "        (3): Linear(in_features=3840, out_features=1, bias=True)\n",
       "      )\n",
       "      (mse): MSELoss()\n",
       "      (ce): CrossEntropyLoss()\n",
       "      (bce): BCEWithLogitsLoss()\n",
       "    )\n",
       "  )\n",
       ")"
      ]
     },
     "execution_count": 10,
     "metadata": {},
     "output_type": "execute_result"
    }
   ],
   "source": [
    "model"
   ]
  },
  {
   "cell_type": "code",
   "execution_count": null,
   "metadata": {},
   "outputs": [],
   "source": []
  }
 ],
 "metadata": {
  "kernelspec": {
   "display_name": "Python 3",
   "language": "python",
   "name": "python3"
  },
  "language_info": {
   "codemirror_mode": {
    "name": "ipython",
    "version": 3
   },
   "file_extension": ".py",
   "mimetype": "text/x-python",
   "name": "python",
   "nbconvert_exporter": "python",
   "pygments_lexer": "ipython3",
   "version": "3.11.8"
  }
 },
 "nbformat": 4,
 "nbformat_minor": 2
}
