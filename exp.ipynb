{
 "cells": [
  {
   "cell_type": "code",
   "execution_count": null,
   "metadata": {},
   "outputs": [],
   "source": [
    "import torch\n",
    "from transformers import AutoModelForSequenceClassification\n",
    "model = AutoModelForSequenceClassification.from_pretrained(\"Synthyra/ESMplusplus_small\", trust_remote_code=True, num_labels=4)\n",
    "tokenizer = model.tokenizer"
   ]
  },
  {
   "cell_type": "code",
   "execution_count": null,
   "metadata": {},
   "outputs": [],
   "source": [
    "model"
   ]
  },
  {
   "cell_type": "code",
   "execution_count": null,
   "metadata": {},
   "outputs": [],
   "source": [
    "sequences = ['MPRTEIN', 'MSEQWENCE']\n",
    "tokenized = tokenizer(sequences, padding=True, return_tensors='pt')\n",
    "\n",
    "labels = torch.randint(0, 4, (2,)).long() # random labels for the two sequences\n",
    "tokenized['labels'] = labels\n",
    "# if you are on device, make sure to move the tokenized to the device\n",
    "# tokenized = {k: v.to(device) for k, v in tokenized.items()}\n",
    "output = model(**tokenized)\n",
    "print(output)"
   ]
  },
  {
   "cell_type": "code",
   "execution_count": 1,
   "metadata": {},
   "outputs": [],
   "source": []
  },
  {
   "cell_type": "code",
   "execution_count": null,
   "metadata": {},
   "outputs": [],
   "source": [
    "from modeling_esm_plusplus import ESMplusplusForMaskedLM\n",
    "\n",
    "model = ESMplusplusForMaskedLM.from_pretrained(\"Synthyra/ESMplusplus_small\")\n",
    "tokenizer = model.tokenizer\n",
    "sequences = ['MPRTEIN', 'MSEQWENCE']\n",
    "tokenized = tokenizer(sequences, padding=True, return_tensors='pt')\n",
    "\n",
    "output = model(**tokenized, output_attentions=True)\n",
    "att = output.attentions\n",
    "len(att)"
   ]
  },
  {
   "cell_type": "code",
   "execution_count": 1,
   "metadata": {},
   "outputs": [
    {
     "name": "stderr",
     "output_type": "stream",
     "text": [
      "c:\\Users\\lhall\\AppData\\Local\\Programs\\Python\\Python311\\Lib\\site-packages\\transformers\\tokenization_utils_base.py:1601: FutureWarning: `clean_up_tokenization_spaces` was not set. It will be set to `True` by default. This behavior will be depracted in transformers v4.45, and will be then set to `False` by default. For more details check this issue: https://github.com/huggingface/transformers/issues/31884\n",
      "  warnings.warn(\n"
     ]
    },
    {
     "data": {
      "text/plain": [
       "33"
      ]
     },
     "execution_count": 1,
     "metadata": {},
     "output_type": "execute_result"
    }
   ],
   "source": [
    "from modeling_fastesm import FastEsmForMaskedLM\n",
    "\n",
    "model = FastEsmForMaskedLM.from_pretrained(\"Synthyra/FastESM2_650\")\n",
    "tokenizer = model.tokenizer\n",
    "sequences = ['MPRTEIN', 'MSEQWENCE']\n",
    "tokenized = tokenizer(sequences, padding=True, return_tensors='pt')\n",
    "\n",
    "output = model(**tokenized, output_attentions=True)\n",
    "att = output.attentions\n",
    "len(att)"
   ]
  },
  {
   "cell_type": "code",
   "execution_count": null,
   "metadata": {},
   "outputs": [],
   "source": []
  }
 ],
 "metadata": {
  "kernelspec": {
   "display_name": "Python 3",
   "language": "python",
   "name": "python3"
  },
  "language_info": {
   "codemirror_mode": {
    "name": "ipython",
    "version": 3
   },
   "file_extension": ".py",
   "mimetype": "text/x-python",
   "name": "python",
   "nbconvert_exporter": "python",
   "pygments_lexer": "ipython3",
   "version": "3.11.8"
  }
 },
 "nbformat": 4,
 "nbformat_minor": 2
}
